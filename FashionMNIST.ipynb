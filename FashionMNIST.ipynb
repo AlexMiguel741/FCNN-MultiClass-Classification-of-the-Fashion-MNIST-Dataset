{
  "cells": [
    {
      "cell_type": "markdown",
      "metadata": {
        "id": "view-in-github",
        "colab_type": "text"
      },
      "source": [
        "<a href=\"https://colab.research.google.com/github/AlexMiguel741/FashionMNIST/blob/main/FashionMNIST.ipynb\" target=\"_parent\"><img src=\"https://colab.research.google.com/assets/colab-badge.svg\" alt=\"Open In Colab\"/></a>"
      ]
    },
    {
      "cell_type": "code",
      "execution_count": null,
      "metadata": {
        "id": "o06mPXhalGBa"
      },
      "outputs": [],
      "source": [
        "from IPython.core.interactiveshell import InteractiveShell\n",
        "InteractiveShell.ast_node_interactivity = \"all\""
      ]
    },
    {
      "cell_type": "code",
      "execution_count": null,
      "metadata": {
        "id": "oIDhEteklGBh"
      },
      "outputs": [],
      "source": [
        "import tensorflow as tf\n",
        "import numpy as np\n",
        "import matplotlib.pyplot as plt\n",
        "\n",
        "# Set the seed for random operations. \n",
        "# This let our experiments to be reproducible. \n",
        "tf.random.set_seed(1234)  "
      ]
    },
    {
      "cell_type": "markdown",
      "metadata": {
        "id": "JuC1VUBLlGBi"
      },
      "source": [
        "## Dataset"
      ]
    },
    {
      "cell_type": "markdown",
      "metadata": {
        "id": "5A_xDSlLlGBl"
      },
      "source": [
        "### tf.data.Dataset.range"
      ]
    },
    {
      "cell_type": "code",
      "execution_count": null,
      "metadata": {
        "id": "xiK6R90slGBm"
      },
      "outputs": [],
      "source": [
        "# Create a Dataset of sequential numbers\n",
        "# --------------------------------------\n",
        "print(\"Dataset.range examples:\")\n",
        "print(\"-----------------------\")\n",
        "\n",
        "range_dataset = tf.data.Dataset.range(0, 20, 1)\n",
        "\n",
        "print(\"\\n1. Dataset\")\n",
        "for el in range_dataset:\n",
        "    print(el)\n",
        "\n",
        "# Divide in batches\n",
        "bs = 3\n",
        "range_dataset = tf.data.Dataset.range(0, 20, 1).batch(bs, drop_remainder=False)\n",
        "\n",
        "print(\"\\n2. Dataset + batch\")\n",
        "for el in range_dataset:\n",
        "    print(el)\n",
        "\n",
        "# Apply a transformation to each element\n",
        "def map_fn(x):\n",
        "    return x**2\n",
        "\n",
        "range_dataset = tf.data.Dataset.range(0, 20, 1).batch(bs, drop_remainder=False).map(map_fn)\n",
        "\n",
        "print(\"\\n3. Dataset + batch + map\")\n",
        "for el in range_dataset:\n",
        "    print(el)\n",
        "\n",
        "# Filter dataset based on a condition\n",
        "def filter_fn(x):\n",
        "    return tf.equal(tf.math.mod(x, 2), 0)\n",
        "\n",
        "range_dataset = tf.data.Dataset.range(0, 20, 1).filter(filter_fn)\n",
        "\n",
        "print(\"\\n4. Dataset + filter\")\n",
        "for el in range_dataset:\n",
        "    print(el)\n",
        "\n",
        "# Random shuffling\n",
        "range_dataset = tf.data.Dataset.range(0, 20, 1).shuffle(\n",
        "    buffer_size=20, reshuffle_each_iteration=False, seed=1234).batch(bs)\n",
        "\n",
        "print(\"\\n5. Dataset + shuffle + batch\")\n",
        "for el in range_dataset:\n",
        "    print(el)\n",
        "\n"
      ]
    },
    {
      "cell_type": "markdown",
      "metadata": {
        "id": "UYOXLL81lGBo"
      },
      "source": [
        "### tf.data.Dataset.from_tensors"
      ]
    },
    {
      "cell_type": "code",
      "execution_count": null,
      "metadata": {
        "scrolled": true,
        "id": "509aKr4DlGBp"
      },
      "outputs": [],
      "source": [
        "# Create Dataset as unique element\n",
        "# --------------------------------\n",
        "from_tensors_dataset = tf.data.Dataset.from_tensors([1, 2, 3, 4, 5, 6, 7, 8, 9])\n",
        "\n",
        "print(\"Dataset.from_tensors example:\")\n",
        "print(\"-----------------------------\")\n",
        "for el in from_tensors_dataset:\n",
        "    print(el)"
      ]
    },
    {
      "cell_type": "markdown",
      "metadata": {
        "id": "ZBBMODGylGBq"
      },
      "source": [
        "### tf.data.Dataset.from_tensor_slices"
      ]
    },
    {
      "cell_type": "code",
      "execution_count": null,
      "metadata": {
        "scrolled": true,
        "id": "bttUoeHclGBr"
      },
      "outputs": [],
      "source": [
        "# Create a Dataset of slices\n",
        "# --------------------------\n",
        "\n",
        "# All the elements must have the same size in first dimension (axis 0)\n",
        "from_tensor_slices_dataset = tf.data.Dataset.from_tensor_slices(\n",
        "    (np.random.uniform(size=[10, 2, 2]), np.random.randint(10, size=[10])))\n",
        "\n",
        "print(\"Dataset.from_tensor_slices example:\")\n",
        "print(\"-----------------------------\")\n",
        "for el in from_tensor_slices_dataset:\n",
        "    print(el)"
      ]
    },
    {
      "cell_type": "markdown",
      "metadata": {
        "id": "ES4SuiNxlGBt"
      },
      "source": [
        "### tf.data.Dataset.zip"
      ]
    },
    {
      "cell_type": "code",
      "execution_count": null,
      "metadata": {
        "id": "dz80MNQ_lGBu"
      },
      "outputs": [],
      "source": [
        "# Combine multiple datasets\n",
        "# -------------------------\n",
        "x = tf.data.Dataset.from_tensor_slices(np.random.uniform(size=10))\n",
        "y = tf.data.Dataset.from_tensor_slices([1, 2, 3, 4, 5, 6, 7, 8, 9])\n",
        "\n",
        "zipped = tf.data.Dataset.zip((x, y))\n",
        "\n",
        "print(\"Dataset.from_tensors example:\")\n",
        "print(\"-----------------------------\")\n",
        "for el in zipped:\n",
        "    print(el)"
      ]
    },
    {
      "cell_type": "code",
      "execution_count": null,
      "metadata": {
        "id": "WHw6SxhplGBv"
      },
      "outputs": [],
      "source": [
        "# Iterate over range dataset\n",
        "# --------------------------\n",
        "\n",
        "# for a in b\n",
        "for el in zipped:\n",
        "    print(el)\n",
        "    \n",
        "print('\\n')\n",
        "    \n",
        "# for a in enumerate(b)\n",
        "for el_idx, el in enumerate(zipped):\n",
        "    print(el)\n",
        "    \n",
        "print('\\n')\n",
        "    \n",
        "# get iterator\n",
        "iterator = iter(zipped)\n",
        "print(next(iterator))"
      ]
    },
    {
      "cell_type": "markdown",
      "metadata": {
        "id": "iHyIVLLblGBw"
      },
      "source": [
        "# Example: Fashion MNIST - Multi-class classification\n",
        "## Dataset"
      ]
    },
    {
      "cell_type": "code",
      "execution_count": null,
      "metadata": {
        "id": "nNmWTwUclGBw"
      },
      "outputs": [],
      "source": [
        "# Load built-in dataset\n",
        "# ---------------------\n",
        "(x_train, y_train), (x_test, y_test) = tf.keras.datasets.fashion_mnist.load_data()"
      ]
    },
    {
      "cell_type": "code",
      "source": [
        "class_names = ['T-shirt/top', 'Trouser', 'Pullover', 'Dress', 'Coat',\n",
        "               'Sandal', 'Shirt', 'Sneaker', 'Bag', 'Ankle boot']"
      ],
      "metadata": {
        "id": "yWit8VsOyWEW"
      },
      "execution_count": null,
      "outputs": []
    },
    {
      "cell_type": "code",
      "execution_count": null,
      "metadata": {
        "colab": {
          "base_uri": "https://localhost:8080/"
        },
        "id": "Gx0RaMxXlGBx",
        "outputId": "2bdc4c9e-d8d5-43e7-bdd5-d1162354836f"
      },
      "outputs": [
        {
          "output_type": "execute_result",
          "data": {
            "text/plain": [
              "(60000, 28, 28)"
            ]
          },
          "metadata": {},
          "execution_count": 16
        },
        {
          "output_type": "execute_result",
          "data": {
            "text/plain": [
              "(60000,)"
            ]
          },
          "metadata": {},
          "execution_count": 16
        }
      ],
      "source": [
        "x_train.shape\n",
        "y_train.shape"
      ]
    },
    {
      "cell_type": "code",
      "execution_count": null,
      "metadata": {
        "id": "CZCu2KFhlGBx"
      },
      "outputs": [],
      "source": [
        "# Split in training and validation sets\n",
        "# e.g., 50000 samples for training and 10000 samples for validation\n",
        "\n",
        "x_valid = x_train[50000:, ...] \n",
        "y_valid = y_train[50000:, ...] \n",
        "\n",
        "x_train = x_train[:50000, ...]\n",
        "y_train = y_train[:50000, ...]"
      ]
    },
    {
      "cell_type": "code",
      "execution_count": null,
      "metadata": {
        "scrolled": false,
        "id": "m5-w-kI_lGBy"
      },
      "outputs": [],
      "source": [
        "# Create Training Dataset object\n",
        "# ------------------------------\n",
        "train_dataset = tf.data.Dataset.from_tensor_slices((x_train, y_train))\n",
        "\n",
        "# Shuffle\n",
        "train_dataset = train_dataset.shuffle(buffer_size=x_train.shape[0])\n",
        "\n",
        "# Normalize images\n",
        "def normalize_img(x_, y_):\n",
        "    return tf.cast(x_, tf.float32) / 255., y_\n",
        "\n",
        "train_dataset = train_dataset.map(normalize_img)\n",
        "\n",
        "# 1-hot encoding <- for categorical cross entropy\n",
        "def to_categorical(x_, y_):\n",
        "    return x_, tf.one_hot(y_, depth=10)\n",
        "\n",
        "train_dataset = train_dataset.map(to_categorical)\n",
        "\n",
        "# Divide in batches\n",
        "bs = 32\n",
        "train_dataset = train_dataset.batch(bs)\n",
        "\n",
        "# Repeat\n",
        "# Without calling the repeat function the dataset \n",
        "# will be empty after consuming all the images\n",
        "train_dataset = train_dataset.repeat()"
      ]
    },
    {
      "cell_type": "code",
      "execution_count": null,
      "metadata": {
        "id": "ffqxmHNKlGBy"
      },
      "outputs": [],
      "source": [
        "# Create Validation Dataset  \n",
        "# -----------------------\n",
        "valid_dataset = tf.data.Dataset.from_tensor_slices((x_valid, y_valid))\n",
        "\n",
        "# Normalize images\n",
        "valid_dataset = valid_dataset.map(normalize_img)\n",
        "\n",
        "# 1-hot encoding\n",
        "valid_dataset = valid_dataset.map(to_categorical)\n",
        "\n",
        "# Divide in batches\n",
        "valid_dataset = valid_dataset.batch(1)\n",
        "\n",
        "# Repeat\n",
        "valid_dataset = valid_dataset.repeat()"
      ]
    },
    {
      "cell_type": "code",
      "execution_count": null,
      "metadata": {
        "id": "NUWFu7dplGBz"
      },
      "outputs": [],
      "source": [
        "# Create Test Dataset\n",
        "# -------------------\n",
        "test_dataset = tf.data.Dataset.from_tensor_slices((x_test, y_test))\n",
        "\n",
        "test_dataset = test_dataset.map(normalize_img)\n",
        "\n",
        "test_dataset = test_dataset.map(to_categorical)\n",
        "\n",
        "test_dataset = test_dataset.batch(1)"
      ]
    },
    {
      "cell_type": "code",
      "execution_count": null,
      "metadata": {
        "scrolled": false,
        "colab": {
          "base_uri": "https://localhost:8080/",
          "height": 1000
        },
        "id": "PpBmw12-lGBz",
        "outputId": "b8a9c0ee-7ed8-4f6f-f7ed-555161b483e6"
      },
      "outputs": [
        {
          "output_type": "execute_result",
          "data": {
            "image/png": "[encoded data removed]",
            "text/plain": [
              "<PIL.Image.Image image mode=L size=128x128 at 0x7FA1BEA88790>"
            ]
          },
          "metadata": {},
          "execution_count": 23
        },
        {
          "output_type": "execute_result",
          "data": {
            "text/plain": [
              "<tf.Tensor: shape=(28, 28), dtype=float32, numpy=\n",
              "array([[0.        , 0.        , 0.        , 0.        , 0.        ,\n",
              "        0.        , 0.        , 0.        , 0.        , 0.        ,\n",
              "        0.        , 0.        , 0.        , 0.        , 0.        ,\n",
              "        0.        , 0.        , 0.        , 0.        , 0.        ,\n",
              "        0.        , 0.        , 0.        , 0.        , 0.        ,\n",
              "        0.        , 0.        , 0.        ],\n",
              "       [0.        , 0.        , 0.        , 0.        , 0.        ,\n",
              "        0.        , 0.        , 0.        , 0.        , 0.        ,\n",
              "        0.        , 0.        , 0.        , 0.        , 0.        ,\n",
              "        0.        , 0.        , 0.        , 0.        , 0.        ,\n",
              "        0.        , 0.        , 0.        , 0.        , 0.        ,\n",
              "        0.        , 0.        , 0.        ],\n",
              "       [0.        , 0.        , 0.        , 0.        , 0.        ,\n",
              "        0.        , 0.        , 0.        , 0.        , 0.        ,\n",
              "        0.        , 0.        , 0.        , 0.        , 0.        ,\n",
              "        0.        , 0.        , 0.        , 0.        , 0.        ,\n",
              "        0.        , 0.        , 0.        , 0.        , 0.        ,\n",
              "        0.        , 0.        , 0.        ],\n",
              "       [0.        , 0.        , 0.        , 0.        , 0.        ,\n",
              "        0.        , 0.        , 0.        , 0.        , 0.        ,\n",
              "        0.        , 0.        , 0.        , 0.        , 0.        ,\n",
              "        0.        , 0.        , 0.        , 0.        , 0.        ,\n",
              "        0.        , 0.        , 0.        , 0.        , 0.        ,\n",
              "        0.        , 0.        , 0.        ],\n",
              "       [0.        , 0.        , 0.40392157, 0.30980393, 0.22745098,\n",
              "        0.2509804 , 0.22745098, 0.21568628, 0.21568628, 0.2       ,\n",
              "        0.19607843, 0.19607843, 0.19215687, 0.19215687, 0.18039216,\n",
              "        0.16470589, 0.18431373, 0.19215687, 0.20784314, 0.21176471,\n",
              "        0.20784314, 0.21568628, 0.23137255, 0.23137255, 0.20784314,\n",
              "        0.19607843, 0.3647059 , 0.07843138],\n",
              "       [0.        , 0.        , 0.5921569 , 0.6431373 , 0.6039216 ,\n",
              "        0.6313726 , 0.62352943, 0.6156863 , 0.6117647 , 0.6156863 ,\n",
              "        0.6156863 , 0.6117647 , 0.6117647 , 0.6156863 , 0.62352943,\n",
              "        0.62352943, 0.63529414, 0.6313726 , 0.627451  , 0.627451  ,\n",
              "        0.627451  , 0.63529414, 0.654902  , 0.6627451 , 0.6509804 ,\n",
              "        0.6156863 , 0.8980392 , 0.3019608 ],\n",
              "       [0.        , 0.        , 0.627451  , 0.7254902 , 0.7176471 ,\n",
              "        0.7176471 , 0.7411765 , 0.7411765 , 0.7294118 , 0.74509805,\n",
              "        0.75686276, 0.75686276, 0.75686276, 0.7607843 , 0.7647059 ,\n",
              "        0.7294118 , 0.7411765 , 0.7607843 , 0.7764706 , 0.78431374,\n",
              "        0.78039217, 0.7882353 , 0.7882353 , 0.7764706 , 0.7647059 ,\n",
              "        0.74509805, 0.85490197, 0.32156864],\n",
              "       [0.        , 0.        , 0.6117647 , 0.7294118 , 0.6901961 ,\n",
              "        0.6862745 , 0.6862745 , 0.68235296, 0.6745098 , 0.6745098 ,\n",
              "        0.68235296, 0.68235296, 0.6862745 , 0.6862745 , 0.6901961 ,\n",
              "        0.69411767, 0.7019608 , 0.7058824 , 0.70980394, 0.7176471 ,\n",
              "        0.72156864, 0.7254902 , 0.7254902 , 0.74509805, 0.74509805,\n",
              "        0.74509805, 0.8352941 , 0.32941177],\n",
              "       [0.        , 0.        , 0.7294118 , 0.7372549 , 0.7058824 ,\n",
              "        0.7176471 , 0.70980394, 0.70980394, 0.7058824 , 0.7058824 ,\n",
              "        0.7019608 , 0.70980394, 0.70980394, 0.70980394, 0.7176471 ,\n",
              "        0.72156864, 0.7254902 , 0.7294118 , 0.7411765 , 0.7411765 ,\n",
              "        0.7490196 , 0.7490196 , 0.7607843 , 0.7647059 , 0.7647059 ,\n",
              "        0.7294118 , 0.94509804, 0.3882353 ],\n",
              "       [0.        , 0.        , 0.7372549 , 0.7411765 , 0.70980394,\n",
              "        0.7294118 , 0.7176471 , 0.7176471 , 0.72156864, 0.7176471 ,\n",
              "        0.7176471 , 0.72156864, 0.72156864, 0.7254902 , 0.7254902 ,\n",
              "        0.7294118 , 0.7372549 , 0.7411765 , 0.7490196 , 0.7490196 ,\n",
              "        0.7607843 , 0.7647059 , 0.76862746, 0.7764706 , 0.78039217,\n",
              "        0.7372549 , 0.93333334, 0.45490196],\n",
              "       [0.        , 0.        , 0.7372549 , 0.7490196 , 0.7058824 ,\n",
              "        0.7294118 , 0.72156864, 0.7176471 , 0.7176471 , 0.70980394,\n",
              "        0.72156864, 0.72156864, 0.7254902 , 0.7254902 , 0.7294118 ,\n",
              "        0.7372549 , 0.7411765 , 0.7411765 , 0.74509805, 0.7490196 ,\n",
              "        0.7607843 , 0.7647059 , 0.7764706 , 0.76862746, 0.78039217,\n",
              "        0.7254902 , 0.9098039 , 0.49803922],\n",
              "       [0.        , 0.        , 0.7411765 , 0.7411765 , 0.70980394,\n",
              "        0.7254902 , 0.72156864, 0.72156864, 0.72156864, 0.72156864,\n",
              "        0.72156864, 0.7254902 , 0.7294118 , 0.7294118 , 0.7254902 ,\n",
              "        0.7294118 , 0.7411765 , 0.7490196 , 0.7490196 , 0.7490196 ,\n",
              "        0.75686276, 0.7607843 , 0.7647059 , 0.76862746, 0.76862746,\n",
              "        0.7372549 , 0.8980392 , 0.54901963],\n",
              "       [0.        , 0.        , 0.78039217, 0.74509805, 0.72156864,\n",
              "        0.7294118 , 0.7294118 , 0.7294118 , 0.7294118 , 0.72156864,\n",
              "        0.72156864, 0.72156864, 0.7254902 , 0.7294118 , 0.7294118 ,\n",
              "        0.7254902 , 0.7411765 , 0.7490196 , 0.7607843 , 0.7607843 ,\n",
              "        0.7647059 , 0.7647059 , 0.76862746, 0.76862746, 0.76862746,\n",
              "        0.74509805, 0.88235295, 0.5803922 ],\n",
              "       [0.        , 0.        , 0.6862745 , 0.7490196 , 0.70980394,\n",
              "        0.7294118 , 0.7254902 , 0.7254902 , 0.7254902 , 0.7294118 ,\n",
              "        0.7372549 , 0.7372549 , 0.7372549 , 0.7411765 , 0.75686276,\n",
              "        0.7490196 , 0.7490196 , 0.7607843 , 0.7647059 , 0.76862746,\n",
              "        0.7764706 , 0.7764706 , 0.7764706 , 0.78039217, 0.78039217,\n",
              "        0.7607843 , 0.87058824, 0.62352943],\n",
              "       [0.        , 0.        , 0.6862745 , 0.7372549 , 0.6901961 ,\n",
              "        0.72156864, 0.7176471 , 0.7176471 , 0.7176471 , 0.7176471 ,\n",
              "        0.7176471 , 0.7176471 , 0.7019608 , 0.69411767, 0.70980394,\n",
              "        0.7176471 , 0.7254902 , 0.74509805, 0.72156864, 0.70980394,\n",
              "        0.72156864, 0.72156864, 0.7254902 , 0.7294118 , 0.7372549 ,\n",
              "        0.72156864, 0.8       , 0.6313726 ],\n",
              "       [0.        , 0.        , 0.7294118 , 0.8       , 0.7882353 ,\n",
              "        0.8117647 , 0.8039216 , 0.8117647 , 0.8039216 , 0.8117647 ,\n",
              "        0.8117647 , 0.79607844, 0.83137256, 0.8352941 , 0.8039216 ,\n",
              "        0.7882353 , 0.79607844, 0.83137256, 0.83137256, 0.8352941 ,\n",
              "        0.84313726, 0.84313726, 0.8509804 , 0.8392157 , 0.85490197,\n",
              "        0.83137256, 0.91764706, 0.6901961 ],\n",
              "       [0.        , 0.        , 0.7058824 , 0.8352941 , 0.8039216 ,\n",
              "        0.83137256, 0.83137256, 0.83137256, 0.83137256, 0.8235294 ,\n",
              "        0.8235294 , 0.85490197, 0.90588236, 0.7764706 , 0.84313726,\n",
              "        0.83137256, 0.96862745, 0.99215686, 0.78039217, 0.81960785,\n",
              "        0.8156863 , 0.83137256, 0.8392157 , 0.8392157 , 0.8392157 ,\n",
              "        0.81960785, 0.9647059 , 0.6313726 ],\n",
              "       [0.        , 0.        , 0.6666667 , 0.76862746, 0.7372549 ,\n",
              "        0.7372549 , 0.7294118 , 0.7372549 , 0.7294118 , 0.7490196 ,\n",
              "        0.6862745 , 0.85882354, 0.50980395, 0.14509805, 0.34509805,\n",
              "        0.38039216, 0.34509805, 0.78431374, 0.8156863 , 0.7176471 ,\n",
              "        0.7372549 , 0.7372549 , 0.7372549 , 0.7372549 , 0.7411765 ,\n",
              "        0.72156864, 0.87058824, 0.53333336],\n",
              "       [0.        , 0.        , 0.75686276, 0.75686276, 0.72156864,\n",
              "        0.74509805, 0.74509805, 0.74509805, 0.7411765 , 0.74509805,\n",
              "        0.7490196 , 0.81960785, 0.6039216 , 0.30980393, 0.49803922,\n",
              "        0.5803922 , 0.6117647 , 0.8392157 , 0.78431374, 0.7490196 ,\n",
              "        0.7490196 , 0.74509805, 0.7490196 , 0.7490196 , 0.7607843 ,\n",
              "        0.7254902 , 0.9137255 , 0.44705883],\n",
              "       [0.        , 0.02352941, 0.7019608 , 0.74509805, 0.7294118 ,\n",
              "        0.7294118 , 0.7294118 , 0.7254902 , 0.7254902 , 0.72156864,\n",
              "        0.7411765 , 0.70980394, 0.89411765, 0.87058824, 0.8509804 ,\n",
              "        0.8117647 , 0.93333334, 0.90588236, 0.67058825, 0.7411765 ,\n",
              "        0.72156864, 0.7294118 , 0.7411765 , 0.7372549 , 0.7411765 ,\n",
              "        0.70980394, 0.9137255 , 0.36862746],\n",
              "       [0.        , 0.07058824, 0.62352943, 0.7411765 , 0.72156864,\n",
              "        0.72156864, 0.7176471 , 0.72156864, 0.70980394, 0.74509805,\n",
              "        0.7294118 , 0.6901961 , 0.8039216 , 0.7490196 , 0.654902  ,\n",
              "        0.6509804 , 0.7882353 , 0.85882354, 0.7019608 , 0.7254902 ,\n",
              "        0.7254902 , 0.7372549 , 0.74509805, 0.72156864, 0.7294118 ,\n",
              "        0.7176471 , 0.8039216 , 0.38039216],\n",
              "       [0.        , 0.15686275, 0.6627451 , 0.78431374, 0.7411765 ,\n",
              "        0.7490196 , 0.7490196 , 0.7490196 , 0.7490196 , 0.74509805,\n",
              "        0.7411765 , 0.70980394, 0.7764706 , 0.78431374, 0.7607843 ,\n",
              "        0.7490196 , 0.8156863 , 0.8117647 , 0.7058824 , 0.70980394,\n",
              "        0.70980394, 0.70980394, 0.7176471 , 0.70980394, 0.7176471 ,\n",
              "        0.69411767, 0.78431374, 0.41960785],\n",
              "       [0.        , 0.3647059 , 0.6627451 , 0.7176471 , 0.7294118 ,\n",
              "        0.7764706 , 0.7647059 , 0.7607843 , 0.78039217, 0.7176471 ,\n",
              "        0.7647059 , 0.93333334, 0.8980392 , 1.        , 0.8509804 ,\n",
              "        0.8392157 , 0.8156863 , 0.91764706, 0.8509804 , 0.8784314 ,\n",
              "        0.88235295, 0.88235295, 0.8901961 , 0.89411765, 0.8980392 ,\n",
              "        0.7372549 , 0.81960785, 0.45882353],\n",
              "       [0.03137255, 0.37254903, 0.21960784, 0.16470589, 0.24705882,\n",
              "        0.22745098, 0.22745098, 0.21176471, 0.21960784, 0.18431373,\n",
              "        0.21960784, 0.19607843, 0.00784314, 0.        , 0.01176471,\n",
              "        0.00784314, 0.        , 0.00392157, 0.01176471, 0.02352941,\n",
              "        0.02745098, 0.02352941, 0.02745098, 0.03921569, 0.03921569,\n",
              "        0.03921569, 0.10196079, 0.        ],\n",
              "       [0.        , 0.        , 0.        , 0.        , 0.        ,\n",
              "        0.        , 0.        , 0.        , 0.        , 0.        ,\n",
              "        0.        , 0.        , 0.        , 0.        , 0.        ,\n",
              "        0.        , 0.        , 0.        , 0.        , 0.        ,\n",
              "        0.        , 0.        , 0.        , 0.        , 0.        ,\n",
              "        0.        , 0.        , 0.        ],\n",
              "       [0.        , 0.        , 0.        , 0.        , 0.        ,\n",
              "        0.        , 0.        , 0.        , 0.        , 0.        ,\n",
              "        0.        , 0.        , 0.        , 0.        , 0.        ,\n",
              "        0.        , 0.        , 0.        , 0.        , 0.        ,\n",
              "        0.        , 0.        , 0.        , 0.        , 0.        ,\n",
              "        0.        , 0.        , 0.        ],\n",
              "       [0.        , 0.        , 0.        , 0.        , 0.        ,\n",
              "        0.        , 0.        , 0.        , 0.        , 0.        ,\n",
              "        0.        , 0.        , 0.        , 0.        , 0.        ,\n",
              "        0.        , 0.        , 0.        , 0.        , 0.        ,\n",
              "        0.        , 0.        , 0.        , 0.        , 0.        ,\n",
              "        0.        , 0.        , 0.        ],\n",
              "       [0.        , 0.        , 0.        , 0.        , 0.        ,\n",
              "        0.        , 0.        , 0.        , 0.        , 0.        ,\n",
              "        0.        , 0.        , 0.        , 0.        , 0.        ,\n",
              "        0.        , 0.        , 0.        , 0.        , 0.        ,\n",
              "        0.        , 0.        , 0.        , 0.        , 0.        ,\n",
              "        0.        , 0.        , 0.        ]], dtype=float32)>"
            ]
          },
          "metadata": {},
          "execution_count": 23
        },
        {
          "output_type": "execute_result",
          "data": {
            "text/plain": [
              "<tf.Tensor: shape=(10,), dtype=float32, numpy=array([0., 0., 0., 0., 0., 0., 0., 0., 1., 0.], dtype=float32)>"
            ]
          },
          "metadata": {},
          "execution_count": 23
        }
      ],
      "source": [
        "# Check that is everything is ok with the dataloader\n",
        "\n",
        "iterator = iter(train_dataset)\n",
        "sample, target = next(iterator)\n",
        "\n",
        "# Just for visualization purpouses\n",
        "sample_ = sample[0, ...]  # select first image in the batch\n",
        "\n",
        "from PIL import Image\n",
        "img = Image.fromarray(np.uint8(np.array(sample_)*255.))\n",
        "img = img.resize([128, 128])\n",
        "img\n",
        "\n",
        "sample_\n",
        "target[0]  # select corresponding target"
      ]
    },
    {
      "cell_type": "markdown",
      "metadata": {
        "id": "XlIPOME3lGBz"
      },
      "source": [
        "## Model"
      ]
    },
    {
      "cell_type": "code",
      "execution_count": null,
      "metadata": {
        "id": "9xeaC4P1lGB0"
      },
      "outputs": [],
      "source": [
        "# Fashion MNIST classification\n",
        "# ----------------------------\n",
        "\n",
        "# x: 28x28\n",
        "# y: 10 classes\n",
        "\n",
        "# Create Model\n",
        "# ------------\n",
        "# e.g. in: 28x28 -> h: 10 units -> out: 10 units (number of classes) \n",
        "\n",
        "# Define Input keras tensor\n",
        "x = tf.keras.Input(shape=[28, 28])\n",
        "\n",
        "# Define intermediate hidden layers and chain\n",
        "flatten = tf.keras.layers.Flatten()(x)  \n",
        "h = tf.keras.layers.Dense(units=10, activation=tf.keras.activations.sigmoid)(flatten)\n",
        "\n",
        "# Define output layer and chain\n",
        "\n",
        "# Define the last fully-connected layer, which is composed by 10 neurons (the number of classes). \n",
        "# Finally, the softmax activation function is applied for multiclass classification\n",
        "out = tf.keras.layers.Dense(units=10, activation=tf.keras.activations.softmax)(h) \n",
        "\n",
        "# Create Model instance defining inputs and outputs\n",
        "model = tf.keras.Model(inputs=x, outputs=out) # Note: you can have a model with multiple inputs and multiple outputs"
      ]
    },
    {
      "cell_type": "code",
      "execution_count": null,
      "metadata": {
        "scrolled": true,
        "colab": {
          "base_uri": "https://localhost:8080/"
        },
        "id": "fsFEj3SdlGB0",
        "outputId": "a11139cf-8f5e-4687-c9b9-86fdc4faef5f"
      },
      "outputs": [
        {
          "output_type": "stream",
          "name": "stdout",
          "text": [
            "Model: \"model\"\n",
            "_________________________________________________________________\n",
            " Layer (type)                Output Shape              Param #   \n",
            "=================================================================\n",
            " input_1 (InputLayer)        [(None, 28, 28)]          0         \n",
            "                                                                 \n",
            " flatten (Flatten)           (None, 784)               0         \n",
            "                                                                 \n",
            " dense (Dense)               (None, 10)                7850      \n",
            "                                                                 \n",
            " dense_1 (Dense)             (None, 10)                110       \n",
            "                                                                 \n",
            "=================================================================\n",
            "Total params: 7,960\n",
            "Trainable params: 7,960\n",
            "Non-trainable params: 0\n",
            "_________________________________________________________________\n"
          ]
        },
        {
          "output_type": "execute_result",
          "data": {
            "text/plain": [
              "[<tf.Variable 'dense/kernel:0' shape=(784, 10) dtype=float32, numpy=\n",
              " array([[-0.03036179, -0.06281489,  0.0257396 , ...,  0.03800482,\n",
              "         -0.01909882,  0.05336354],\n",
              "        [-0.00394604,  0.00170591, -0.0514029 , ...,  0.05030797,\n",
              "          0.0382886 , -0.03114992],\n",
              "        [ 0.0818864 ,  0.05883654,  0.04829731, ..., -0.05160644,\n",
              "         -0.05101755,  0.05875803],\n",
              "        ...,\n",
              "        [ 0.05402381, -0.00915979, -0.02856489, ...,  0.04777338,\n",
              "          0.05148549, -0.08004379],\n",
              "        [ 0.03537666,  0.06979673, -0.05969963, ...,  0.01393002,\n",
              "          0.06334465, -0.04543552],\n",
              "        [ 0.03403018, -0.05196487, -0.00468538, ..., -0.01439087,\n",
              "          0.05410584,  0.00825624]], dtype=float32)>,\n",
              " <tf.Variable 'dense/bias:0' shape=(10,) dtype=float32, numpy=array([0., 0., 0., 0., 0., 0., 0., 0., 0., 0.], dtype=float32)>,\n",
              " <tf.Variable 'dense_1/kernel:0' shape=(10, 10) dtype=float32, numpy=\n",
              " array([[ 0.10681671, -0.21565178,  0.54518306,  0.33767676, -0.09082237,\n",
              "         -0.52187127,  0.12106484, -0.5191472 ,  0.5226437 , -0.21219748],\n",
              "        [ 0.25416505,  0.11191785, -0.09809113, -0.3264152 ,  0.25440925,\n",
              "         -0.49294007, -0.0512577 , -0.33606952,  0.24689281, -0.20821053],\n",
              "        [-0.29728   , -0.32662296,  0.45996022, -0.13579571, -0.03329766,\n",
              "          0.24442732, -0.16079873, -0.1618894 ,  0.42001778, -0.51496035],\n",
              "        [ 0.5448096 , -0.5391234 , -0.12660852,  0.07686871, -0.23395827,\n",
              "         -0.17641094,  0.03499007,  0.15497702,  0.00352871, -0.50480026],\n",
              "        [ 0.28958637, -0.49887916,  0.5176666 ,  0.09415799, -0.54766876,\n",
              "         -0.4372638 ,  0.3983506 ,  0.3647986 , -0.01561809,  0.33814573],\n",
              "        [-0.1780693 ,  0.54150176,  0.10118383,  0.4683069 ,  0.22114873,\n",
              "          0.2281444 ,  0.21671736, -0.48920813,  0.36766064, -0.00699753],\n",
              "        [ 0.47458422,  0.49016976, -0.08482856,  0.20801061, -0.33792675,\n",
              "         -0.30647153,  0.10554636, -0.2665343 ,  0.03095192, -0.11156419],\n",
              "        [-0.1206241 ,  0.16199297,  0.31660575, -0.08503553,  0.45165688,\n",
              "         -0.40501696,  0.5115924 ,  0.29534042,  0.17607939,  0.3442729 ],\n",
              "        [-0.21178561, -0.28189176,  0.47168422,  0.06032556, -0.1062856 ,\n",
              "          0.28818172, -0.33715773, -0.09632024, -0.41079062, -0.31406647],\n",
              "        [ 0.3211699 ,  0.07407689,  0.47473812,  0.4545287 ,  0.279549  ,\n",
              "         -0.35434338, -0.4861652 , -0.4469988 ,  0.02550262,  0.0224725 ]],\n",
              "       dtype=float32)>,\n",
              " <tf.Variable 'dense_1/bias:0' shape=(10,) dtype=float32, numpy=array([0., 0., 0., 0., 0., 0., 0., 0., 0., 0.], dtype=float32)>]"
            ]
          },
          "metadata": {},
          "execution_count": 25
        }
      ],
      "source": [
        "# Visualize created model as a table\n",
        "\n",
        "# I can visualise the model I create and the weights initialisation\n",
        "model.summary()\n",
        "\n",
        "# Visualize initialized weights\n",
        "model.weights\n",
        "# As you can see it will show you the size of the output of your layers and the number of parameters (weights + biases)"
      ]
    },
    {
      "cell_type": "code",
      "execution_count": null,
      "metadata": {
        "id": "c91zDp3DlGB0"
      },
      "outputs": [],
      "source": [
        "# Equivalent formulation\n",
        "# ----------------------\n",
        "\n",
        "# Create model with sequential \n",
        "# (uncomment to run)\n",
        "# seq_model = tf.keras.Sequential()\n",
        "# seq_model.add(tf.keras.layers.Flatten(input_shape=(28, 28))) # or as a list\n",
        "# seq_model.add(tf.keras.layers.Dense(units=10, activation=tf.keras.activations.sigmoid))\n",
        "# seq_model.add(tf.keras.layers.Dense(units=10, activation=tf.keras.activations.softmax))"
      ]
    },
    {
      "cell_type": "code",
      "execution_count": null,
      "metadata": {
        "id": "sw6DFa7flGB1"
      },
      "outputs": [],
      "source": [
        "# seq_model.summary()\n",
        "# seq_model.weights"
      ]
    },
    {
      "cell_type": "markdown",
      "metadata": {
        "id": "tE3rTXnrlGB1"
      },
      "source": [
        "## Prepare the model for training"
      ]
    },
    {
      "cell_type": "code",
      "execution_count": null,
      "metadata": {
        "id": "vOkl4xWolGB1"
      },
      "outputs": [],
      "source": [
        "# Optimization params\n",
        "# -------------------\n",
        "\n",
        "# Before training the network we have to 'compile' the model by defining the following hyperparameters\n",
        "\n",
        "# Loss\n",
        "loss = tf.keras.losses.CategoricalCrossentropy()\n",
        "\n",
        "# Learning rate\n",
        "lr = 1e-3\n",
        "optimizer = tf.keras.optimizers.Adam(learning_rate=lr)\n",
        "# -------------------\n",
        "\n",
        "# Validation metrics\n",
        "# ------------------\n",
        "\n",
        "# Define the metrics we want to compute during validation \n",
        "# (keras will automatically evaluate them also on the training set). \n",
        "# In this example we compute the accuracy, i.e., the frequency of correctly predicted classes\n",
        "\n",
        "metrics = ['accuracy']\n",
        "# ------------------\n",
        "\n",
        "# Finally, we call model.compile\n",
        "\n",
        "# Compile Model\n",
        "model.compile(optimizer=optimizer, loss=loss, metrics=metrics)"
      ]
    },
    {
      "cell_type": "markdown",
      "metadata": {
        "id": "DEHzr0GKlGB1"
      },
      "source": [
        "## Training"
      ]
    },
    {
      "cell_type": "code",
      "execution_count": null,
      "metadata": {
        "colab": {
          "base_uri": "https://localhost:8080/"
        },
        "id": "7SHYAe6jlGB2",
        "outputId": "dc735483-e33f-4497-cd1e-524c7e3d933c"
      },
      "outputs": [
        {
          "output_type": "stream",
          "name": "stdout",
          "text": [
            "Epoch 1/10\n",
            "1563/1563 [==============================] - 16s 10ms/step - loss: 1.1452 - accuracy: 0.6908 - val_loss: 0.7189 - val_accuracy: 0.7898\n",
            "Epoch 2/10\n",
            "1563/1563 [==============================] - 16s 10ms/step - loss: 0.6047 - accuracy: 0.8115 - val_loss: 0.5370 - val_accuracy: 0.8241\n",
            "Epoch 3/10\n",
            "1563/1563 [==============================] - 14s 9ms/step - loss: 0.4977 - accuracy: 0.8362 - val_loss: 0.4842 - val_accuracy: 0.8343\n",
            "Epoch 4/10\n",
            "1563/1563 [==============================] - 16s 10ms/step - loss: 0.4553 - accuracy: 0.8464 - val_loss: 0.4545 - val_accuracy: 0.8428\n",
            "Epoch 5/10\n",
            "1563/1563 [==============================] - 15s 10ms/step - loss: 0.4325 - accuracy: 0.8521 - val_loss: 0.4436 - val_accuracy: 0.8453\n",
            "Epoch 6/10\n",
            "1563/1563 [==============================] - 14s 9ms/step - loss: 0.4174 - accuracy: 0.8547 - val_loss: 0.4281 - val_accuracy: 0.8514\n",
            "Epoch 7/10\n",
            "1563/1563 [==============================] - 16s 10ms/step - loss: 0.4050 - accuracy: 0.8590 - val_loss: 0.4248 - val_accuracy: 0.8506\n",
            "Epoch 8/10\n",
            "1563/1563 [==============================] - 16s 10ms/step - loss: 0.3978 - accuracy: 0.8613 - val_loss: 0.4150 - val_accuracy: 0.8548\n",
            "Epoch 9/10\n",
            "1563/1563 [==============================] - 15s 10ms/step - loss: 0.3895 - accuracy: 0.8635 - val_loss: 0.4103 - val_accuracy: 0.8561\n",
            "Epoch 10/10\n",
            "1563/1563 [==============================] - 14s 9ms/step - loss: 0.3834 - accuracy: 0.8661 - val_loss: 0.4046 - val_accuracy: 0.8567\n"
          ]
        },
        {
          "output_type": "execute_result",
          "data": {
            "text/plain": [
              "<keras.callbacks.History at 0x7fa1bc064250>"
            ]
          },
          "metadata": {},
          "execution_count": 27
        }
      ],
      "source": [
        "# Now we are ready to start training our network. \n",
        "# This is done by calling the 'fit' function. We need to set some parameters. The main ones are:\n",
        "\n",
        "# 1) Training set. \n",
        "# 'x' and 'y' params represent the input and targets for training, respectively. \n",
        "# If we have a dataloader which already provides <input, target> pairs, we have to set only the 'x' param.\n",
        "# If you have a very small dataset, it could be convenient instead to set 'x' and 'y' directly with your\n",
        "# numpy arrays containing all your training set (e.g., x = x_train, y = y_train in the example).\n",
        "\n",
        "# 2) Number of epochs (how many times we want to process all the dataset).\n",
        "\n",
        "# 3) Steps per epoch, i.e., (# training images) / (batch size)\n",
        "\n",
        "# 4) Validation set\n",
        "# 'validation_data' will be our dataloader for the validation set (also in this case we can give the numpy array directly).\n",
        "# 'validation_steps' is similar to the 'steps_per_epoch'. In the example it is 10000, since we have \n",
        "# chosen arbitrarily a batch size of 1 sample for the validation dataset. \n",
        "\n",
        "model.fit(x=train_dataset,  # you can give directly numpy arrays x_train\n",
        "          y=None,   \n",
        "          epochs=10, \n",
        "          steps_per_epoch=int(np.ceil(x_train.shape[0] / bs)),  # how many batches per epoch\n",
        "          validation_data=valid_dataset,  \n",
        "          validation_steps=10000)  # number of batches in validation set\n",
        "\n",
        "# Here we are! While the network is training keras provides useful information. \n",
        "# In particular, we can see the loss and the metrics computed on training batches, and, at the end of each epoch,\n",
        "# the same quantities are computed on the validation set (very useful to understand if we are overfitting..).\n",
        "# But we can also inspect these and other details in a smarter way..see you next lesson!:) "
      ]
    },
    {
      "cell_type": "code",
      "execution_count": null,
      "metadata": {
        "id": "tboz07_TlGB2"
      },
      "outputs": [],
      "source": [
        "predictions = model.predict(x_test)"
      ]
    },
    {
      "cell_type": "code",
      "source": [
        "np.argmax(predictions[0])"
      ],
      "metadata": {
        "colab": {
          "base_uri": "https://localhost:8080/"
        },
        "id": "ybYhcz-zvkex",
        "outputId": "ae42dae7-f7df-44ef-c28b-4a749a1b8357"
      },
      "execution_count": null,
      "outputs": [
        {
          "output_type": "execute_result",
          "data": {
            "text/plain": [
              "9"
            ]
          },
          "metadata": {},
          "execution_count": 39
        }
      ]
    },
    {
      "cell_type": "code",
      "source": [
        "y_test[0]"
      ],
      "metadata": {
        "colab": {
          "base_uri": "https://localhost:8080/"
        },
        "id": "4d-tbRdpxXKD",
        "outputId": "f7b22458-d6db-4e9b-c63a-9f99720c02dd"
      },
      "execution_count": null,
      "outputs": [
        {
          "output_type": "execute_result",
          "data": {
            "text/plain": [
              "9"
            ]
          },
          "metadata": {},
          "execution_count": 40
        }
      ]
    },
    {
      "cell_type": "code",
      "source": [
        "def plot_image(i, predictions_array, true_label, img):\n",
        "  true_label, img = true_label[i], img[i]\n",
        "  plt.grid(False)\n",
        "  plt.xticks([])\n",
        "  plt.yticks([])\n",
        "\n",
        "  plt.imshow(img, cmap=plt.cm.binary)\n",
        "\n",
        "  predicted_label = np.argmax(predictions_array)\n",
        "  if predicted_label == true_label:\n",
        "    color = 'blue'\n",
        "  else:\n",
        "    color = 'red'\n",
        "\n",
        "  plt.xlabel(\"{} {:2.0f}% ({})\".format(class_names[predicted_label],\n",
        "                                100*np.max(predictions_array),\n",
        "                                class_names[true_label]),\n",
        "                                color=color)\n",
        "\n",
        "def plot_value_array(i, predictions_array, true_label):\n",
        "  true_label = true_label[i]\n",
        "  plt.grid(False)\n",
        "  plt.xticks(range(10))\n",
        "  plt.yticks([])\n",
        "  thisplot = plt.bar(range(10), predictions_array, color=\"#777777\")\n",
        "  plt.ylim([0, 1])\n",
        "  predicted_label = np.argmax(predictions_array)\n",
        "\n",
        "  thisplot[predicted_label].set_color('red')\n",
        "  thisplot[true_label].set_color('blue')"
      ],
      "metadata": {
        "id": "AnbEVT2uxoAy"
      },
      "execution_count": null,
      "outputs": []
    },
    {
      "cell_type": "code",
      "source": [
        "i = 10\n",
        "plt.figure(figsize=(6,3))\n",
        "plt.subplot(1,2,1)\n",
        "plot_image(i, predictions[i], y_test, x_test)\n",
        "plt.subplot(1,2,2)\n",
        "plot_value_array(i, predictions[i],  y_test)\n",
        "plt.show()"
      ],
      "metadata": {
        "colab": {
          "base_uri": "https://localhost:8080/",
          "height": 247
        },
        "id": "kJGWeY6Zx191",
        "outputId": "33fa19d5-c06d-46ea-f00f-f3fba3c32faa"
      },
      "execution_count": null,
      "outputs": [
        {
          "output_type": "execute_result",
          "data": {
            "text/plain": [
              "<Figure size 432x216 with 0 Axes>"
            ]
          },
          "metadata": {},
          "execution_count": 57
        },
        {
          "output_type": "execute_result",
          "data": {
            "text/plain": [
              "<matplotlib.axes._subplots.AxesSubplot at 0x7fa1b983af90>"
            ]
          },
          "metadata": {},
          "execution_count": 57
        },
        {
          "output_type": "execute_result",
          "data": {
            "text/plain": [
              "<matplotlib.axes._subplots.AxesSubplot at 0x7fa1b96e97d0>"
            ]
          },
          "metadata": {},
          "execution_count": 57
        },
        {
          "output_type": "display_data",
          "data": {
            "image/png": "[encoded data removed]",
            "text/plain": [
              "<Figure size 432x216 with 2 Axes>"
            ]
          },
          "metadata": {
            "needs_background": "light"
          }
        }
      ]
    },
    {
      "cell_type": "code",
      "source": [
        "# Plot the first X test images, their predicted labels, and the true labels.\n",
        "# Color correct predictions in blue and incorrect predictions in red.\n",
        "num_rows = 5\n",
        "num_cols = 3\n",
        "num_images = num_rows*num_cols\n",
        "plt.figure(figsize=(2*2*num_cols, 2*num_rows))\n",
        "for i in range(num_images):\n",
        "  plt.subplot(num_rows, 2*num_cols, 2*i+1)\n",
        "  plot_image(i, predictions[i], y_test, x_test)\n",
        "  plt.subplot(num_rows, 2*num_cols, 2*i+2)\n",
        "  plot_value_array(i, predictions[i], y_test)\n",
        "plt.tight_layout()\n",
        "plt.show()"
      ],
      "metadata": {
        "colab": {
          "base_uri": "https://localhost:8080/",
          "height": 1000
        },
        "id": "fPg2w422y4VT",
        "outputId": "eaf8a45d-6f53-4a11-8415-8fa62a5ab698"
      },
      "execution_count": null,
      "outputs": [
        {
          "output_type": "execute_result",
          "data": {
            "text/plain": [
              "<Figure size 864x720 with 0 Axes>"
            ]
          },
          "metadata": {},
          "execution_count": 59
        },
        {
          "output_type": "execute_result",
          "data": {
            "text/plain": [
              "<matplotlib.axes._subplots.AxesSubplot at 0x7fa1b951ab90>"
            ]
          },
          "metadata": {},
          "execution_count": 59
        },
        {
          "output_type": "execute_result",
          "data": {
            "text/plain": [
              "<matplotlib.axes._subplots.AxesSubplot at 0x7fa1b9642c90>"
            ]
          },
          "metadata": {},
          "execution_count": 59
        },
        {
          "output_type": "execute_result",
          "data": {
            "text/plain": [
              "<matplotlib.axes._subplots.AxesSubplot at 0x7fa1b94f49d0>"
            ]
          },
          "metadata": {},
          "execution_count": 59
        },
        {
          "output_type": "execute_result",
          "data": {
            "text/plain": [
              "<matplotlib.axes._subplots.AxesSubplot at 0x7fa1b94b1fd0>"
            ]
          },
          "metadata": {},
          "execution_count": 59
        },
        {
          "output_type": "execute_result",
          "data": {
            "text/plain": [
              "<matplotlib.axes._subplots.AxesSubplot at 0x7fa1b945b790>"
            ]
          },
          "metadata": {},
          "execution_count": 59
        },
        {
          "output_type": "execute_result",
          "data": {
            "text/plain": [
              "<matplotlib.axes._subplots.AxesSubplot at 0x7fa1b93fcfd0>"
            ]
          },
          "metadata": {},
          "execution_count": 59
        },
        {
          "output_type": "execute_result",
          "data": {
            "text/plain": [
              "<matplotlib.axes._subplots.AxesSubplot at 0x7fa1b9431950>"
            ]
          },
          "metadata": {},
          "execution_count": 59
        },
        {
          "output_type": "execute_result",
          "data": {
            "text/plain": [
              "<matplotlib.axes._subplots.AxesSubplot at 0x7fa1b93c9190>"
            ]
          },
          "metadata": {},
          "execution_count": 59
        },
        {
          "output_type": "execute_result",
          "data": {
            "text/plain": [
              "<matplotlib.axes._subplots.AxesSubplot at 0x7fa1b9329290>"
            ]
          },
          "metadata": {},
          "execution_count": 59
        },
        {
          "output_type": "execute_result",
          "data": {
            "text/plain": [
              "<matplotlib.axes._subplots.AxesSubplot at 0x7fa1b92e5510>"
            ]
          },
          "metadata": {},
          "execution_count": 59
        },
        {
          "output_type": "execute_result",
          "data": {
            "text/plain": [
              "<matplotlib.axes._subplots.AxesSubplot at 0x7fa1b92cd4d0>"
            ]
          },
          "metadata": {},
          "execution_count": 59
        },
        {
          "output_type": "execute_result",
          "data": {
            "text/plain": [
              "<matplotlib.axes._subplots.AxesSubplot at 0x7fa1b9284dd0>"
            ]
          },
          "metadata": {},
          "execution_count": 59
        },
        {
          "output_type": "execute_result",
          "data": {
            "text/plain": [
              "<matplotlib.axes._subplots.AxesSubplot at 0x7fa1b91ed990>"
            ]
          },
          "metadata": {},
          "execution_count": 59
        },
        {
          "output_type": "execute_result",
          "data": {
            "text/plain": [
              "<matplotlib.axes._subplots.AxesSubplot at 0x7fa1b9121290>"
            ]
          },
          "metadata": {},
          "execution_count": 59
        },
        {
          "output_type": "execute_result",
          "data": {
            "text/plain": [
              "<matplotlib.axes._subplots.AxesSubplot at 0x7fa1b4a32250>"
            ]
          },
          "metadata": {},
          "execution_count": 59
        },
        {
          "output_type": "execute_result",
          "data": {
            "text/plain": [
              "<matplotlib.axes._subplots.AxesSubplot at 0x7fa1b4a52e10>"
            ]
          },
          "metadata": {},
          "execution_count": 59
        },
        {
          "output_type": "execute_result",
          "data": {
            "text/plain": [
              "<matplotlib.axes._subplots.AxesSubplot at 0x7fa1b49bac50>"
            ]
          },
          "metadata": {},
          "execution_count": 59
        },
        {
          "output_type": "execute_result",
          "data": {
            "text/plain": [
              "<matplotlib.axes._subplots.AxesSubplot at 0x7fa1b4925fd0>"
            ]
          },
          "metadata": {},
          "execution_count": 59
        },
        {
          "output_type": "execute_result",
          "data": {
            "text/plain": [
              "<matplotlib.axes._subplots.AxesSubplot at 0x7fa1b48e8390>"
            ]
          },
          "metadata": {},
          "execution_count": 59
        },
        {
          "output_type": "execute_result",
          "data": {
            "text/plain": [
              "<matplotlib.axes._subplots.AxesSubplot at 0x7fa1b4925c10>"
            ]
          },
          "metadata": {},
          "execution_count": 59
        },
        {
          "output_type": "execute_result",
          "data": {
            "text/plain": [
              "<matplotlib.axes._subplots.AxesSubplot at 0x7fa1b48b9450>"
            ]
          },
          "metadata": {},
          "execution_count": 59
        },
        {
          "output_type": "execute_result",
          "data": {
            "text/plain": [
              "<matplotlib.axes._subplots.AxesSubplot at 0x7fa1b47f09d0>"
            ]
          },
          "metadata": {},
          "execution_count": 59
        },
        {
          "output_type": "execute_result",
          "data": {
            "text/plain": [
              "<matplotlib.axes._subplots.AxesSubplot at 0x7fa1b94d88d0>"
            ]
          },
          "metadata": {},
          "execution_count": 59
        },
        {
          "output_type": "execute_result",
          "data": {
            "text/plain": [
              "<matplotlib.axes._subplots.AxesSubplot at 0x7fa1b476ab10>"
            ]
          },
          "metadata": {},
          "execution_count": 59
        },
        {
          "output_type": "execute_result",
          "data": {
            "text/plain": [
              "<matplotlib.axes._subplots.AxesSubplot at 0x7fa1b47ba490>"
            ]
          },
          "metadata": {},
          "execution_count": 59
        },
        {
          "output_type": "execute_result",
          "data": {
            "text/plain": [
              "<matplotlib.axes._subplots.AxesSubplot at 0x7fa1b470bd50>"
            ]
          },
          "metadata": {},
          "execution_count": 59
        },
        {
          "output_type": "execute_result",
          "data": {
            "text/plain": [
              "<matplotlib.axes._subplots.AxesSubplot at 0x7fa1b46ccd10>"
            ]
          },
          "metadata": {},
          "execution_count": 59
        },
        {
          "output_type": "execute_result",
          "data": {
            "text/plain": [
              "<matplotlib.axes._subplots.AxesSubplot at 0x7fa1b4632650>"
            ]
          },
          "metadata": {},
          "execution_count": 59
        },
        {
          "output_type": "execute_result",
          "data": {
            "text/plain": [
              "<matplotlib.axes._subplots.AxesSubplot at 0x7fa1b461f050>"
            ]
          },
          "metadata": {},
          "execution_count": 59
        },
        {
          "output_type": "execute_result",
          "data": {
            "text/plain": [
              "<matplotlib.axes._subplots.AxesSubplot at 0x7fa1b45892d0>"
            ]
          },
          "metadata": {},
          "execution_count": 59
        },
        {
          "output_type": "display_data",
          "data": {
            "image/png": "[encoded data removed]",
            "text/plain": [
              "<Figure size 864x720 with 30 Axes>"
            ]
          },
          "metadata": {
            "needs_background": "light"
          }
        }
      ]
    }
  ],
  "metadata": {
    "kernelspec": {
      "display_name": "Python 3",
      "language": "python",
      "name": "python3"
    },
    "language_info": {
      "codemirror_mode": {
        "name": "ipython",
        "version": 3
      },
      "file_extension": ".py",
      "mimetype": "text/x-python",
      "name": "python",
      "nbconvert_exporter": "python",
      "pygments_lexer": "ipython3",
      "version": "3.7.7"
    },
    "colab": {
      "name": "FashionMNIST.ipynb",
      "provenance": [],
      "collapsed_sections": [],
      "include_colab_link": true
    }
  },
  "nbformat": 4,
  "nbformat_minor": 0
}